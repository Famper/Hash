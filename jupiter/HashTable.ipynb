{
 "cells": [
  {
   "cell_type": "markdown",
   "id": "4551d1769cf5a529",
   "metadata": {},
   "source": [
    "# **Создание класса для работы с Hash Table\"ом**\n",
    "Для работы нам потребуется несколько основных методов.\n",
    "\n",
    "---\n",
    "```python\n",
    "def __init__(self) -> None:\n",
    "    self.hash_table: dict = {0: {}}\n",
    "    self.count_values: int = 0\n",
    "    self.divider: int = len(self.hash_table)\n",
    "    self.bucket: int | None = None\n",
    "```\n",
    "- Тут происходит простая инициализация всех данных для работы класса. То есть, мы инициализируем сам **Hash Table**, количество элементов внутри него и делитель (равный количеству **bucket** в текущий момент)\n",
    "---\n",
    "```python\n",
    "def existence(self, key: any) -> bool:\n",
    "```\n",
    "- Проверка наличия ключа внутри `dict`\n",
    "---\n",
    "```python\n",
    "def generate_new_dict(self, _type: int = 1):\n",
    "```\n",
    "- Генерация нового **Hash Table**. Есть 2 типа генерации\n",
    "  - `1` - Увеличивает количество `bucket` в **2 раза**\n",
    "  - `other` - Уменьшает количество `bucket` в **2 раза**\n",
    "---\n",
    "```python\n",
    "def append(self, key: any, value: any):\n",
    "```\n",
    "- Метод добавляет новый элемент в `dict`. Но перед этим проверяет наличие значения внутри **Hash Table**. Если значения не будет, то идет проверка с количеством элементов внутри **Hash Table**. Если элементов стало столько же, сколько и количество `bucket` внутри **Hash Table**, тогда вызываем метод:\n",
    "```python\n",
    "generate_new_dict(_type=1)\n",
    "```\n",
    "Если элемент уже есть, тогда мы просто ничего не добавляем.\n",
    "---\n",
    "```python\n",
    "def remove(self, key: any):\n",
    "```\n",
    "- Метод удаляет существующий элемент в `dict`. Но перед этим проверяет наличие значения внутри **Hash Table**. Если значение будет, то идет проверка с количеством элементов внутри **Hash Table**. Если элементов стало столько же, сколько и количество `bucket / 2` внутри **Hash Table**, тогда вызываем метод:\n",
    "```python\n",
    "generate_new_dict(_type=0)\n",
    "```\n",
    "Если элемента нет, тогда мы просто ничего не добавляем.\n",
    "---\n",
    "```python\n",
    "def get_value(self, key: any):\n",
    "```\n",
    "- Получение значения из **Hash Table** по ключу"
   ]
  },
  {
   "cell_type": "code",
   "id": "ac02c78cb7911937",
   "metadata": {
    "ExecuteTime": {
     "end_time": "2024-04-07T12:59:49.636319Z",
     "start_time": "2024-04-07T12:59:49.629211Z"
    }
   },
   "source": [
    "\"\"\"Module providing a function printing python version.\"\"\"\n",
    "\n",
    "\n",
    "class HashTable:\n",
    "    \"\"\"Hash Table Implementation\"\"\"\n",
    "\n",
    "    def __init__(self) -> None:\n",
    "        \"\"\"\n",
    "        HashTable initialization class\n",
    "        \"\"\"\n",
    "        self.hash_table: dict = {0: {}}\n",
    "        self.count_values: int = 0\n",
    "        self.divider: int = len(self.hash_table)\n",
    "        self.bucket: int | None = None\n",
    "\n",
    "        print(\"\\n[SYSTEM] - Init hash table!\")\n",
    "\n",
    "    def existence(self, key: any) -> bool:\n",
    "        \"\"\"\n",
    "        Check key in HashTable\n",
    "        :param key:\n",
    "        :return:\n",
    "        \"\"\"\n",
    "        self.bucket: int = hash(key) % self.divider\n",
    "\n",
    "        return key in self.hash_table[self.bucket].keys()\n",
    "\n",
    "    def generate_new_dict(self, _type: int = 1):\n",
    "        \"\"\"\n",
    "        Update count buckets in HashSet and update position elements in buckets\n",
    "        :param _type: 1 = Positive, other = Negative\n",
    "        \"\"\"\n",
    "        if _type == 1:\n",
    "            self.divider: int = self.divider * 2\n",
    "        else:\n",
    "            self.divider: int = round(self.divider / 2)\n",
    "\n",
    "        new_hash_set: dict = {}\n",
    "\n",
    "        for start in range(0, self.divider):\n",
    "            new_hash_set[start]: dict = {}\n",
    "\n",
    "        for start, __value in enumerate(self.hash_table.keys()):\n",
    "            for key, _value in self.hash_table[start].items():\n",
    "                bucket: int = hash(key) % self.divider\n",
    "\n",
    "                new_hash_set[bucket][key] = _value\n",
    "\n",
    "        self.hash_table: dict = new_hash_set\n",
    "\n",
    "    def append(self, key: any, value: any):\n",
    "        \"\"\"\n",
    "        Add new value in HashSet\n",
    "        :param key:\n",
    "        :param value:\n",
    "        \"\"\"\n",
    "        if not self.existence(key):\n",
    "            if self.count_values == self.divider:\n",
    "                self.generate_new_dict()\n",
    "\n",
    "            self.hash_table[self.bucket][key] = value\n",
    "            self.count_values += 1\n",
    "\n",
    "    def remove(self, key: any):\n",
    "        \"\"\"\n",
    "        Remove value in HashSet\n",
    "        :param key:\n",
    "        \"\"\"\n",
    "        if self.existence(key):\n",
    "            if self.count_values == round(self.divider / 2):\n",
    "                self.generate_new_dict(_type=0)\n",
    "\n",
    "            del self.hash_table[self.bucket][key]\n",
    "            self.count_values -= 1\n",
    "\n",
    "    def get_value(self, key: any) -> any:\n",
    "        \"\"\"\n",
    "        Get value of key in HashTable\n",
    "        :param key:\n",
    "        :return:\n",
    "        \"\"\"\n",
    "        if self.existence(key):\n",
    "            bucket: int = hash(key) % self.divider\n",
    "\n",
    "            return self.hash_table[bucket].get(key, None)\n",
    "\n",
    "        return None\n"
   ],
   "outputs": [],
   "execution_count": 1
  },
  {
   "cell_type": "markdown",
   "id": "767683389c5a8e44",
   "metadata": {},
   "source": [
    "---\n",
    "\n",
    "![lorem-ipsum-tekst-ryba.png](data:image/png;base64,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)\n",
    "\n",
    "---\n",
    "\n",
    "Дальше мы создаем новый файл `output-table.json`. В котором и будет храниться **Hash Table**. Файл нужен для наглядной демонстрации того, как на основе **lorem impsum** будет сгенерирован **Hash Table**\n",
    "\n",
    "Также мы дополнительно убираем лишние символы, чтобы оставить исключительно слова."
   ]
  },
  {
   "cell_type": "code",
   "id": "77e133357e187dc6",
   "metadata": {
    "ExecuteTime": {
     "end_time": "2024-04-07T12:59:49.657949Z",
     "start_time": "2024-04-07T12:59:49.637319Z"
    }
   },
   "source": [
    "import json\n",
    "import re\n",
    "\n",
    "\n",
    "def set_default(obj):\n",
    "    \"\"\"\n",
    "    set replace to list type\n",
    "\n",
    "    :param obj:\n",
    "    :return:\n",
    "    \"\"\"\n",
    "    if isinstance(obj, set):\n",
    "        return list(obj)\n",
    "    raise TypeError\n",
    "\n",
    "\n",
    "if __name__ == '__main__':\n",
    "    print(f\"\\n[System] - Start\")\n",
    "\n",
    "    hash_object: HashTable = HashTable()\n",
    "\n",
    "    with open('../lorem_ipsum.txt', encoding='UTF-8') as file:\n",
    "        contents = file.read()\n",
    "\n",
    "        for word in contents.split():\n",
    "            word = re.sub(\"['\\\"!@#$%^&*()-_=+/\\\\,.|]\", '', word)\n",
    "            \n",
    "            hash_object.append(\n",
    "                key=word,\n",
    "                value=hash(word)\n",
    "            )\n",
    "\n",
    "    with open('../output-table.json', 'w', encoding='UTF-8') as file:\n",
    "        json.dump(\n",
    "            obj=hash_object.hash_table,\n",
    "            default=set_default,\n",
    "            fp=file\n",
    "        )\n",
    "\n",
    "    print(f\"\\n[System] - End\")"
   ],
   "outputs": [
    {
     "name": "stdout",
     "output_type": "stream",
     "text": [
      "\n",
      "[System] - Start\n",
      "\n",
      "[SYSTEM] - Init hash table!\n",
      "\n",
      "[System] - End\n"
     ]
    }
   ],
   "execution_count": 2
  },
  {
   "cell_type": "markdown",
   "id": "a44227e16c72f64e",
   "metadata": {},
   "source": [
    "---\n",
    "Здесь мы создаем список `without_hash`. Его мы будем использовать для независимого тестирования скорости обработки поиска элемента внутри."
   ]
  },
  {
   "cell_type": "code",
   "id": "7ceccf008c9923f2",
   "metadata": {
    "scrolled": true,
    "ExecuteTime": {
     "end_time": "2024-04-07T12:59:49.661967Z",
     "start_time": "2024-04-07T12:59:49.658952Z"
    }
   },
   "source": [
    "without_hash = dict()\n",
    "\n",
    "for bucket in hash_object.hash_table.keys():\n",
    "  for key, value in hash_object.hash_table[bucket].items():\n",
    "      without_hash[key] = value\n",
    "\n",
    "print(json.dumps(without_hash))"
   ],
   "outputs": [
    {
     "name": "stdout",
     "output_type": "stream",
     "text": [
      "{\"dictumst\": -6130833403254437888, \"scelerisque\": 4707360931673997314, \"ipsum\": -8856498598916075517, \"lorem\": 408353971365362179, \"neque\": 5077255344304230404, \"tellus\": 4985704492243683332, \"eleifend\": -2795853255074040313, \"commodo\": 4373508541746096904, \"primis\": 5410830686450900749, \"parturient\": -748378979837405939, \"suscipit\": -3218534687880361201, \"facilisi\": -289809528128172016, \"quis\": -8653939083255658991, \"conubia\": 5964785741491965969, \"est\": 7380471793246018836, \"leo\": 1237869816843910934, \"onec\": 1930832372099652631, \"unc\": 7038189753818672664, \"laoreet\": 6761490769796930073, \"nec\": -6427056809345991139, \"justo\": -2110664466276529635, \"curae\": -2731812068396621794, \"quam\": -2436534753076678880, \"non\": 6285170880258103076, \"vehicula\": 8834991534233886246, \"tempus\": 220288515758821928, \"am\": -7780150587426013912, \"cursus\": -6797158709758976216, \"habitant\": -8945160813999469527, \"dictum\": 3909847612531568425, \"condimentum\": 1477143635829581098, \"ed\": -5232310542995186133, \"nteger\": 3350084256908803117, \"arcu\": 4442072521518855213, \"pellentesque\": -2038548368319902674, \"nibh\": 3790109619532625199, \"natoque\": 2125808516540471599, \"velit\": -4420433021337762254, \"sed\": -681302854674493899, \"mus\": -710281297493268171, \"venenatis\": 5868357204466789176, \"volutpat\": 3138470125200442427, \"taciti\": 6385041438849749563, \"potenti\": -9091813764116786115, \"sit\": -6063037325340151234, \"cubilia\": -2211891905261298114, \"pretium\": -2397738960943132607, \"fames\": 4257999266339968833, \"ras\": 7825977750042280769, \"ullam\": -7225026055872274105, \"amet\": 7695970440657490249, \"varius\": 4339547899899403341, \"interdum\": 2096444582660851021, \"risus\": -5330313289371750321, \"ut\": -5224800338920481713, \"ellentesque\": 6228248096156216144, \"lobortis\": -986971694213232048, \"facilisis\": -722615206568644782, \"fermentum\": -6327711839653120174, \"litora\": 5062205664961598037, \"himenaeos\": 3950804274580054361, \"magna\": 2043867095047549786, \"aliquam\": 6871697899345336922, \"sapien\": -1250346505389736356, \"roin\": 5584071471086003295, \"nterdum\": -1240490387667898529, \"adipiscing\": -7449692120745479328, \"semper\": 6567419590408119648, \"elit\": -7008322140114285215, \"sodales\": 1472205257119226978, \"aptent\": -1841964010740865950, \"sollicitudin\": 3284065796141710693, \"ac\": 7462591064129584486, \"mollis\": 4208919734646966118, \"pharetra\": 7042636107133142119, \"ridiculus\": -3183453488047033752, \"magnis\": 5738254971393433449, \"accumsan\": -8262734800103814550, \"auctor\": -5317979757246872981, \"convallis\": 81294225428039277, \"mattis\": 3891121193603402607, \"enean\": 2086587662596689007, \"mi\": -2711554870372422800, \"tiam\": -2261778593647374735, \"ex\": 8936144882312520177, \"id\": -4091379219216309390, \"ante\": -4148228275128292238, \"lacinia\": -8394532559704007053, \"aliquet\": 742501349345698932, \"finibus\": 4868916886506194037, \"nostra\": -7636328350293780107, \"orci\": 2635340460771637879, \"dis\": -9068495956487612297, \"uisque\": -9214955442620588933, \"ulla\": 8405802417105382012, \"felis\": 2034507611223678334, \"placerat\": -4614511202911105409, \"inceptos\": 1828514153588982143, \"aecenas\": 5695204473131565442, \"torquent\": -6110011984685696125, \"lacus\": 8308333566444006276, \"posuere\": -7546682198368929660, \"dolor\": 6379481494454149254, \"porta\": 3044861971859154567, \"libero\": 3976400366243647881, \"viverra\": 6017564958209198221, \"orem\": -4769219270040373104, \"feugiat\": -5257378750321445229, \"malesuada\": -2719529117539764075, \"ad\": 6930869779406723735, \"bibendum\": 8051366809421150620, \"diam\": -6888548842702343267, \"porttitor\": 6455682272998501538, \"gravida\": 7291200541186653096, \"et\": 4624658050165021865, \"maximus\": 8720587842006264233, \"dapibus\": -4020227168446659413, \"ultrices\": 2768576056584272299, \"vulputate\": -435663927036099412, \"odio\": -5572987852950889812, \"in\": 2299012010430527150, \"ultricies\": -4709384776380242002, \"augue\": -182524985360073041, \"lass\": -8650515086850356815, \"a\": -1326365204253258062, \"sem\": -2528538826018290252, \"eu\": -3991378489408284746, \"ullamcorper\": 5894547690530948534, \"netus\": -4853637548190124874, \"tristique\": 8891495592924443833, \"nunc\": 6066980269692094649, \"consectetur\": -8677712401769646406, \"consequat\": -5304563445002726981, \"sagittis\": -2471623021526618692, \"ornare\": -5694439175965223489, \"ligula\": -6372099383214145088, \"iaculis\": 6735032205569407170, \"faucibus\": -3200115763460780093, \"n\": -3363392915122332732, \"eget\": -6363006104485641276, \"platea\": -5281864339017442364, \"massa\": -1451154456613366074, \"penatibus\": -633243490817627192, \"nisi\": 2374482964455614665, \"hasellus\": -4687539519718044470, \"turpis\": 3695748861186477515, \"dui\": -4953976193991035444, \"lectus\": -2867883407340545844, \"purus\": -816172702412855090, \"raesent\": 280045679559904718, \"tortor\": 4339910085804054735, \"senectus\": 6335950000355132879, \"usce\": 8356382660639733200, \"sociosqu\": 5220691392136101840, \"tincidunt\": 6566150060241753553, \"dignissim\": 2853060976073051858, \"rutrum\": 3713530900539515859, \"montes\": -6231121105015078189, \"hendrerit\": -740625797226278442, \"liquam\": 7489087229190740182, \"orbi\": 7375753722127880918, \"morbi\": 424999711586836438, \"at\": 8854465527018714839, \"fringilla\": 3950917108647487192, \"hac\": 8190272513144820184, \"habitasse\": 333389313251515609, \"urabitur\": 5002376164321563610, \"enim\": 5070574346862406107, \"metus\": 4383600305225228251, \"vitae\": 4442016054043060444, \"nisl\": -1568393997480244516, \"per\": -8038210050799318564, \"molestie\": -4271169221897973026, \"congue\": 6962809006455991518, \"egestas\": -8664939722863438369, \"elementum\": -7675798046152892448, \"rhoncus\": -3118603492045740831, \"urna\": -3950529645568421150, \"mauris\": 2182048259128611044, \"t\": 4653232999668861670, \"nulla\": -3845173660330860055, \"luctus\": -3679561368653635095, \"tempor\": -2536825047478686486, \"euismod\": 5786714808195919083, \"uis\": 9015391618396419307, \"vestibulum\": 8609153811466239211, \"nascetur\": -3616322939232646929, \"vel\": -4960238724638275854, \"erat\": -4485851644613472526, \"rci\": -130925930434428684, \"imperdiet\": -7929150666091362315, \"efficitur\": -1510385797109689097, \"estibulum\": 7175165417495455736, \"uspendisse\": -4559593548896523014, \"ivamus\": -920058236729049861, \"eros\": 1049891969170046716, \"auris\": -2683083020372819457, \"blandit\": -4552092567071225345, \"pulvinar\": -725484502756168961}\n"
     ]
    }
   ],
   "execution_count": 3
  },
  {
   "cell_type": "markdown",
   "id": "659bcd340b907156",
   "metadata": {},
   "source": [
    "\n",
    "\n",
    "---\n",
    "\n",
    "\n",
    "\n",
    "Далее идет подключение зависимостей для тестирования скорости.\n",
    "\n",
    "- `time` - нужен для подсчета времени работы.\n",
    "- `random` - нужен для выборки любого элемента из `without_hash`"
   ]
  },
  {
   "cell_type": "code",
   "id": "2118d15e1bfd6d37",
   "metadata": {
    "ExecuteTime": {
     "end_time": "2024-04-07T12:59:49.664987Z",
     "start_time": "2024-04-07T12:59:49.661967Z"
    }
   },
   "source": [
    "import time\n",
    "import random"
   ],
   "outputs": [],
   "execution_count": 4
  },
  {
   "cell_type": "markdown",
   "id": "62ca77dc9ccd6f75",
   "metadata": {},
   "source": [
    "\n",
    "\n",
    "---\n",
    "\n",
    "\n",
    "\n",
    "В этом тесте будет проверенно `10 000 000` раз операция поиска внутри **Hash Table**. Значения будут браться псевдо-рандомным способом.\n",
    "\n",
    "> `100 000 000` записей заняло по времени: `132.4818253517151 секунд => 2 минуты 12 секунд` (Google)"
   ]
  },
  {
   "cell_type": "code",
   "id": "a4c78e5163ce5b53",
   "metadata": {
    "ExecuteTime": {
     "end_time": "2024-04-07T13:00:04.499562Z",
     "start_time": "2024-04-07T12:59:49.664987Z"
    }
   },
   "source": [
    "# начальное время\n",
    "start_time = time.time()\n",
    "\n",
    "for start in range(1, 10_000_000):\n",
    "  hash_object.existence(random.choice(list(without_hash.keys())))\n",
    "\n",
    "# конечное время\n",
    "end_time = time.time()\n",
    "\n",
    "# разница между конечным и начальным временем\n",
    "result = end_time - start_time\n",
    "\n",
    "print('Затраченное время:', round(result, 4), 'секунд')"
   ],
   "outputs": [
    {
     "name": "stdout",
     "output_type": "stream",
     "text": [
      "Затраченное время: 14.8293 секунд\n"
     ]
    }
   ],
   "execution_count": 5
  },
  {
   "cell_type": "markdown",
   "id": "17bb135bddd5230a",
   "metadata": {},
   "source": [
    "\n",
    "\n",
    "---\n",
    "\n",
    "\n",
    "В этом тесте будет проверенно `10 000 000` раз операция поиска внутри списка. Значения будут браться псевдо-рандомным способом.\n",
    "\n",
    "> `100 000 000` записей заняло по времени: `250.30208706855774 => 4 минуты 10 секунд` (Google)"
   ]
  },
  {
   "cell_type": "code",
   "id": "e1da60dc653c9054",
   "metadata": {
    "ExecuteTime": {
     "end_time": "2024-04-07T13:00:17.543538Z",
     "start_time": "2024-04-07T13:00:04.500599Z"
    }
   },
   "source": [
    "# начальное время\n",
    "start_time = time.time()\n",
    "\n",
    "for start in range(1, 10_000_000):\n",
    "  key_exists = random.choice(list(without_hash.keys())) in without_hash\n",
    "\n",
    "# конечное время\n",
    "end_time = time.time()\n",
    "\n",
    "# разница между конечным и начальным временем\n",
    "result = end_time - start_time\n",
    "\n",
    "print('Затраченное время:', round(result, 4), 'секунд')"
   ],
   "outputs": [
    {
     "name": "stdout",
     "output_type": "stream",
     "text": [
      "Затраченное время: 13.0392 секунд\n"
     ]
    }
   ],
   "execution_count": 6
  }
 ],
 "metadata": {
  "kernelspec": {
   "display_name": "Python 3 (ipykernel)",
   "language": "python",
   "name": "python3"
  },
  "language_info": {
   "codemirror_mode": {
    "name": "ipython",
    "version": 3
   },
   "file_extension": ".py",
   "mimetype": "text/x-python",
   "name": "python",
   "nbconvert_exporter": "python",
   "pygments_lexer": "ipython3",
   "version": "3.12.2"
  }
 },
 "nbformat": 4,
 "nbformat_minor": 5
}
