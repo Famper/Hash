{
 "cells": [
  {
   "cell_type": "markdown",
   "metadata": {},
   "source": [
    "# **Создание класса для работы с Hash Set\"ом**\n",
    "Для работы нам потребуется несколько основных методов.\n",
    "\n",
    "---\n",
    "```python\n",
    "def __init__(self) -> None:\n",
    "    self.hash_set: dict = {0: set()}\n",
    "    self.count_values: int = 0\n",
    "    self.divider: int = len(self.__hash_set)\n",
    "    self.bucket: int | None = None\n",
    "```\n",
    "- Тут происходит простая инициализация всех данных для работы класса. То есть, мы инициализируем сам **Hash Set**, количество элементов внутри него и делитель (равный количеству **bucket** в текущий момент)\n",
    "---\n",
    "\n",
    "```python\n",
    "def existence(self, value: any) -> bool:\n",
    "```\n",
    "- Проверка наличия ключа внутри `set`\n",
    "---\n",
    "```python\n",
    "def generate_new_dict(self, _type: int = 1) -> None:\n",
    "```\n",
    "- Генерация нового **Hash Set**. Есть 2 типа генерации\n",
    "  - `1` - Увеличивает количество `bucket` в **2 раза**\n",
    "  - `other` - Уменьшает количество `bucket` в **2 раза**\n",
    "---\n",
    "```python\n",
    "def append(self, value: any) -> None:\n",
    "```\n",
    "- Метод добавляет новый элемент в `set`. Но перед этим проверяет наличие значения внутри **Hash Set**. Если значения не будет, то идет проверка с количеством элементов внутри **Hash Set**. Если элементов стало столько же, сколько и количество `bucket` внутри **Hash Set**, тогда вызываем метод:\n",
    "```python\n",
    "generate_new_dict(_type=1)\n",
    "```\n",
    "Если элемент уже есть, тогда мы просто ничего не добавляем.\n",
    "---\n",
    "```python\n",
    "def remove(self, value: any) -> None:\n",
    "```\n",
    "- Метод удаляет существующий элемент в `set`. Но перед этим проверяет наличие значения внутри **Hash Set**. Если значение будет, то идет проверка с количеством элементов внутри **Hash Set**. Если элементов стало столько же, сколько и количество `bucket / 2` внутри **Hash Set**, тогда вызываем метод:\n",
    "```python\n",
    "generate_new_dict(_type=0)\n",
    "```\n",
    "Если элемента нет, тогда мы просто ничего не добавляем."
   ]
  },
  {
   "cell_type": "code",
   "metadata": {
    "ExecuteTime": {
     "end_time": "2024-04-07T12:59:25.680645Z",
     "start_time": "2024-04-07T12:59:25.673574Z"
    }
   },
   "source": [
    "\"\"\"Module providing a function printing python version.\"\"\"\n",
    "\n",
    "\n",
    "class HashSet:\n",
    "    \"\"\"Hash set example.\"\"\"\n",
    "\n",
    "    def __init__(self) -> None:\n",
    "        \"\"\"\n",
    "        HashSet initialization class\n",
    "        \"\"\"\n",
    "        self.hash_set: dict = {0: set()}\n",
    "        self.count_values: int = 0\n",
    "        self.divider: int = len(self.hash_set)\n",
    "        self.bucket: int | None = None\n",
    "\n",
    "        print(\"\\n[SYSTEM] - Init hash set!\")\n",
    "\n",
    "    def existence(self, value: any) -> bool:\n",
    "        \"\"\"\n",
    "        Check key in HashSet\n",
    "        :param value:\n",
    "        :return:\n",
    "        \"\"\"\n",
    "        self.bucket: int = hash(value) % self.divider\n",
    "\n",
    "        return value in self.hash_set[self.bucket]\n",
    "\n",
    "    def generate_new_dict(self, _type: int = 1) -> None:\n",
    "        \"\"\"\n",
    "        Update count buckets in HashSet and update position elements in buckets\n",
    "        :param _type: 1 = Positive, other = Negative\n",
    "        \"\"\"\n",
    "        if _type == 1:\n",
    "            self.divider: int = self.divider * 2\n",
    "        else:\n",
    "            self.divider: int = round(self.divider / 2)\n",
    "\n",
    "        new_hash_set = {}\n",
    "\n",
    "        for start in range(0, self.divider):\n",
    "            new_hash_set[start]: set = set()\n",
    "\n",
    "        for start, __value in enumerate(self.hash_set.keys()):\n",
    "            for _value in self.hash_set[start]:\n",
    "                bucket: int = hash(_value) % self.divider\n",
    "                new_hash_set[bucket].add(_value)\n",
    "\n",
    "        self.hash_set = new_hash_set\n",
    "\n",
    "    def append(self, value: any) -> None:\n",
    "        \"\"\"\n",
    "        Add new value in HashSet\n",
    "        :param value:\n",
    "        \"\"\"\n",
    "        if not self.existence(value):\n",
    "            if self.count_values == len(self.hash_set):\n",
    "                self.generate_new_dict()\n",
    "\n",
    "            self.hash_set[self.bucket].add(value)\n",
    "            self.count_values += 1\n",
    "\n",
    "    def remove(self, value: any) -> None:\n",
    "        \"\"\"\n",
    "        Remove value in HashSet\n",
    "        :param value:\n",
    "        \"\"\"\n",
    "        if self.existence(value):\n",
    "            if self.count_values == round(len(self.hash_set) / 2):\n",
    "                self.generate_new_dict(_type=0)\n",
    "\n",
    "            self.hash_set[self.bucket].remove(value)\n",
    "            self.count_values -= 1\n"
   ],
   "outputs": [],
   "execution_count": 1
  },
  {
   "cell_type": "markdown",
   "metadata": {
    "id": "bjZ6fDbB8vtY"
   },
   "source": [
    "---\n",
    "\n",
    "![lorem-ipsum-tekst-ryba.png](data:image/png;base64,iVBORw0KGgoAAAANSUhEUgAAAu4AAAHgCAMAAADNIRgVAAAAmVBMVEX7s7PK5P8AAAA/KiqSZ2fOkpLzra3qp6dbPz+5g4ODW1vEi4vYmZnhoKBxTk6tenqgcXF1hJXM4/3D3Pf5trfO4fr3uLrX1+vR3fThzdzQ3/fvwMfkytf1ub3V2u/a1Obnx9Lzu8De0eHtwsrxvcOlu9EwOEDrxM2Hmqy81e6ZrMJIUl21zOWtxNtdanjDv8+yr717fop5ZWvV0/XSAAAY90lEQVR42uzBgQAAAACAoP2pF6kCAAAAAAAAAAAAAAAAAAAAAAAAAAAAAAAAAAAAAAAAAAAAAAAAAAAAAAAAAAAAAAAAAAAAAAAAAAAAAGB27OAGYRgKouCXg4wVkOm/W0pwcox3poZ3WC0AAAAAAAAAAAAQ72z3HAWPNcc4bsQ+ZsGz9bNd8C3YwmxLvWAPn7byK9jE25QhR7dlyNEdkAQ55E4OuRNE7gSRO0HkTpBV7q+CbcidIHIniNwJIneCyJ0gcieI3Akid4LInSByJ4jcCSJ3gsidIH/2znXXaRgGwJnTONc2FRIgrn94/3ekjIuO1S22R4GO5JP256jynOxz6qxHy9B90BFD90FHDN0HHTF0H3TE0H3QEUP3QUcM3QcdMXQfdMTQfdARQ/dBR/xz3dEXl+OV7MqMR4YuztxmdjHm4h/NeHY51nJYwjjnXeb5+4QIwnsX6zUVP36b/NS6z3kKsMOmWtAw8A7Uxd75dfqS4CeL0xbQNSwlTNk/XpE1WQB4mQfGQMKvDs09SqJTl4fyp9TdxwVekGpdLfngHD669uY1NA5jcHTEVi78vBINp7q8CLPO+opcfwSgulfYM9F6omOhhGwG59LdV/q20Vwp9K+pqJuCmGz77BG/v50sspRXIKRvkWdSOFFfkXvdHRDI+zXGQhjCn0l3F4DizU8CEGxUNQX8UTsVbuENRwm3pwWBEJUVudd9AkIreIS7hNHSnEX3/Q3Ytc7OiYqmgNMdA3OVVHYId45ys15ZkXQO0EKDRXHs+WwGJ9Ad92YGZvl1raVyCtAERacMWk3KNOwKlMhUZEt3hDb2xWjCODDx/LpHYHRG2LOguUUBASg7U3NVpEwvR3bCMACPI6H4slxgY6zv59Z94TuJcEeGPU6sO7Vd1b5j4FJeuK0vggBHhs5+GhOM087Prvtt4YIhrOLVF6MFFhRKtxjFHSS1zx0PhlIWke4VBJSX7zmeh59Y9xluUkUtSmK2vZzu+NBaGAV9AgqS9YnXfQYJtjkYijeDf6a7a9zGiT0a300WWmx53/ZU0cY2gODrpJlJwDEZktALwFjez617Ea5BqExkFum+8G6IbYeVv8xrJ7pk+EZIC7+8O/hxbXi27v2TUfOcunu4B0oTqpo6otFXYAnyG0fhEwja4/gzbEx4LeDAtCgWNiJ+i5mhRTXn4stro+cpdQe17uIv4BdWdwc8Vl5GEo8zuxGg2O01i0aU3cvWzj/RIaHvLhej5il1X+QfyaLdexVOd4QHdEf5lziSmhCkgbIrUyDLdn6WbubT50svumfFCrQy1+o0QjJEhRoB7hFFU5i1U+3JjaDJKo3qzGn48vrSi+4ICoUndTNq2xJfAyZvkmZ1j4rH80mwF6DXyZ8t86Frsy7OwtbIdKN7Okp3QL3u7qdMk0J31OQwCR/iT3IxrXwS5ubDs3OwNTL96O6hQWKaGcqk1h1/NQoV5HlMmo4qClOd5G1Hks8Bnn+vujUyHemeVPEdtECt7ulqO/8NfZQWaDLCjH9H96hoyO3Z96pbI9OR7h4O1L0qhxC3l9d0CPziKtV9/g3d3f+j+5u3l650X4/UHfRDKJIlM4l3ik66E69/Sffp1Lp/eH3pS3c4VPeiHUIUXejFBVqkui9/SPfpmXTfGpm+dHfH6p5UQ6DSFT4LPiCKC3rovjUyvemejtUdUDcElCzbVv5fZ1Y+h7533T+8v3SnOxysu1MNoUjUsNSKepDurnPdt0amO93no3VPqiGgwI1gKAEaBPkc1q513xqZDnWPR+tutbpTMpsBcvlKEwg96741Mj3qno7WHVCrOwWpHrYYQylH6W471v3jq0uXunPxs1r38qju+58ctdNsdqxD96/sndtunDAQQM3YHgPGgKpWqtqHXhQp//+HJVHbZLOsGS84MeM5r1HQAgf2wBp8RMhUqTvCBjZZd79X9wV0IQS3/sf+KN2hVt2XkKlUd3u87iZN92T0YbpjnbovISO6H6a7zqw7RJlE9+2QEd1PoztCFCu6R3n41lSsu6lB91Z0fxUyovuZdB8gjr4GRPeXkBHdj9UdMKvuFpIR3f+HjOjOS/cOHZXahogtISO6M9PdKjJ1DQD+/KNpRHfRvQ7dH7421enujXsH3dVH6u5F9zV+fmrq092AP/2dGQdRjOi+HjJV6m5PrzuK7qn8+tqI7s90ojt73ZeQqVP3EWz+QQRtcUPEqtb9KWQq1V1f2evONyKyhRhadH8bMrXqjgA2/3j3KbPuRnRPCplqdXcANv/TTCGz7h6ioOh+ETL16u4BbPHPqm7iRHd6yNSsu1nRfSrsTQS7N4kV3V9Cpmrd12QIR+tusus+Q4xJdH/m8++mqVr3AQBsYW8Rw8PfBNWL7n9DpnLd+1UZzcG6Y3bdFUQR3RcePzWV646wqns4VvdR5dGdXjOBtow28NX9KWRq171b113pDO93z6u7OyDeATxb3ZeQEd3hhu7TobqrTLrTJ+Juif3vuOq+hIzo3t3SHTPMzZRZ9wFiOFIPaabt/hQyojvevittPnLmPXUX496aATA8dV+mSBXd/w+ssnnnVZ3V++judg6bsQChBN0HdTCPXxrR/UVSm3fWbJVRd/oFhyUc/G0RNyKtOpYlZER3pXx0++JRuvucutMXqimDhxjqvoSM6L4wbGxfn6DOnDzFv86xv0O8qaIggC7jZyba6tPnehfdF4bN7Wvouo9wE8yge46cGQFCou6+fN2XkBHdFyxh++oD3hozqNy60+/OuPiBMqc+JmXoY+7bhNWfCgoZJrrPFL1wv+5T8qIX5lybBmPhrpOX19PP2DphsaagkGGhO7a0s6kjnicxWVyETPsbNURwkat23Hv1a+hHGpJ+Ad4/RarovtCR4yHQcgOTT9MWohpl893fvEoZ0g9LQPpeCfTF6oJC5vy6DzqhlQPJ4yE5Qru4Rvl819daB317GwSI4ehHRpfyK3Q5IVOC7gj3627btEtDR/m+nZOvOFuAfPcmRoih/eUK9rDg9z8kZYFeKD3E6MoJmRJ0d/fqjp1OtgtX5cFted39B+yo9jFDnN479Qz6Nv67PcShH2Tg6KuvD5iQg5Hu9i7d0Y73nUw9XOO35DW7fHRqHwNs0o5j++/ownu3tKefg0zCo++D2sX3Lw0n3ft03dGP97cDmvh385y6w8Kmi2ovBsh4dRPYAol5thDo3866mJApQHcPSbrj0PV6Zyq7MfI/SIhPou30nKF8ZBI9xi9642h8SRmq7w42aUsJmQ/WHdEawi5UiOiC7ea+hW0sxZ4eLgm3zmt6Q3acgIAe1F4CYd3HSDZ5+nfDoIHAhGqhAwq2jJD5WN0N5MAqCjjpy523mrcmUG8r5Q8aFXqIYhzhbi+hPGYggvTV10WETL26L7huhFeMszH6taBTUFtk3t/0axZtBhUhSXdTiO7PIcNI9wJwfh6vTWj7LqAqErRzC5e0xjvFj+/fmgXR/XDQhcH67glvB1eo6K/AYP15Pu2uKVJFd4E//0NGdBfY8xIyorvAnVchI7oLvLkIGdFdYM1lyIjuAmfehIzoLvDlKmREd4EtD1chI7oLXFkJGdFd4MnqFKmiu8CSh6/NCqK7wJEbU6SK7gI/boaM6C6w43bIiO4CNyIhI7oLvIiGjOgusCI+RaroLnBiI2REd4EPmyEjugts2A4Z0V3gAiFkatIdwzAMpb4CQ3iPud6r0T0Y+IueOb5HpXZoIVOJ7m6E17RBCawghkwduk/wll6ahhHkkKlC9xZWkKJhAz1kKtAdYR05vzPhkR4yFeiuYR2tBAYkhQx/3efIPB7C6UmbIpW97hid1Uo4OY9fmhTY695H58AQTk1yyHDXHSGG3H4/Nekhw113DzFmJZyXJWQ+HFUWf9g70yY5QSAMtw20oKDmqkoqH3JfVTn//5+LOSebyWC3STaN6adqPy3oLPuIrwzCgJ+xwZnj8c+DjELdHX7Bxt4PhoIgo093QtP9kDxREGTa091mErTJvU4JoArCOgGM9lASZNrT3cJMg2gJMvp0t0fV46EmyJjuxjmHDTIKdfdYYwKjLTQFGYW6Z6yRwGgKVUFGoe5gWeY4rDuLaQOUMSPahPdjcF9ZkNGoOzjr3I+BuiCjUveClxjBaAaFQUal7pDw1wxgNMO617tKQB/egnvrrFuk6gQUMtsYZNMoDTJadYfi8CrRpkK2g9Ygo1Z3gBDxhLOH1IZQG2QU6w7Qp8FhRDfN9kJ2QygOMqp1N1pEc5Ax3Y3/KMiY7sZ/FGQa053KKK7Sj/TLI4U0r6Q0hkLwe/T588HSl8Pl0hPsh/oSUhGUp5LH/JvNSHlMidkWfUhf/s7zP/Op8iDTju6U58HJ3lWlkgZ3PvWAgo/4E3EJtM/0cXD4C+Iwh16gbJ9DWvwUHXM5nS8VhunbyX+nGSlFdlvkAX/ADSO1FGSa0L0PyyR8NZvyPLlfVenniBeISWp88T+oPi3z4ofIuopO3fL8Wdkz3OWOf60QK+XlzTjjOb6HXxEcnhHH0xapLQB6oTL+3BMH/n/1vMoYsYoXCE8Lnhjy6fzpJ+VnOssCfoqOv1gahXGrhtsKdMulZgx4YmNvoP5S642tBBm9ulNOv4wJYePiqFRJWEEofJnwhOvhCjTjFaZcWRRwW9/ALn8OlXozeuaLY/Xmi9RGkFGpex/mCS8RKpG0WqU4ZDGKF7KM2wu70g+/mZxQ37Jdw+1rE6oeeBKs3fmuawXQw+muy9L9FF6qhFPfNPnFR6wzEWzQc945SZeLUPBCfWmcGOWlbUJYxxF8J2KdN10jgBZOfQ1f94lZxSNizN/cwToZqmTeTE2aaleEl/bWiVueIrNNCLdwgnZ+3bUBaIFQrjuzyvBTzRmrJIHtSHCJpVbGS8PJUC8vb8aIm/jTh93kVtcEoIYQxbqXgVNlOVtLtez2vRcMiswV3Umqe+GWzxOrGWdkkE9PIlvc6JoAFNFPMt1XyOMGOSBiqVgremCNAt1hqdwBnFB3EmT3YbsZC7KHiAhZvOpaAFSRBbqfxoOrpE8/0hNl7l46jjOEQ/Jwco6kfHFbzeiQRfoS3I/TvYMuSKo75/8RgRGeWZFcuuK8u3gwL9XdicrXdc7j17kO03b3HvBr2XiE9A7KILnum11Vll9XjrtIwgw1yr/SnbDGePpOrdQt7r+cN9H2mNbLrgFAG4tc97BP3SoLUzkHVfz16C4duUTEwro5jgERB9Yjz/OuAUAbvVx3wCrznkpYmE8WC9Sgf6U7YR3ilRzilfYbW08zoA4n193v2dBpFt8T/I4NdPx16C5PeL3gPsc96rNOP6COP6272/m9VuJ+sh4q9P9K94F9lyTBc/7ceHgHdfxp3X1lmLAK+/ogqBCvQ3fhCRbBjYDY33a97fQD6vD7dZeFjSCcHdnv2v8yKdQ98K97D1egxp9VQR17dRf3vSQcrg+7NsAs+nVPghZ3bT+rgjquTXdwWKdn644+EVxAv+6BX/TRc9MdNOvuGGfiRdywb6INERxG9xc3b5ju0KjuAes4RnHOuq0t6+7hxO3HXWe6g2rdfW2QUPRVU8EtlkPrvm6RarqvtKo7yfQl3CYfV/cXd7rOdF9RrXutx42yNONwm4EOqvvjbsV0X1Gte2CcijmqMyGHdETdv+71brqvNKv7LMsmM7KI/eF0/7bXu+m+0qzuQdZTEzJZDqb7ve4rpvtKs7pn3MBDJc3UyAfSfQ0y3zDdAdrVnYSv/QVkM9FRdF+DzHdMd4AD6+6qztVJx9D9yl7vpjvAgXVHgiuMKGA6gu4fuh8x3QHa1R2cUHeIKIHa1/3qehqm+8p/pDuhCDLddQHqUK07jELfTXdVgDp06w4DSnCmuypAHcp1B4cSJtNdE6AO7boTiphNd0WAOrTrDj2KyKa7HkAd6nWX+m666wHUoV93IIcCFtNdDaCOBnQXjc+0vRKB6X7GcXV3cIkR+cymuxZAHW3oDhSRjemuBVCHJt0HqDAil2C6KwHUoUl3DzXII4/JdFcCqEPTBOAR6hSHLMh01wGoQ5PuBbZIyCGb7joAdVyj7j2rV65DA26TTHcdgDoUrUQQ4Qoplp2JxpvuOgB1KNJ9/tm4eWeicaa7DkAd16j7IovuDuPFRGO6m+4adPfVU9U5N47gAtnJdF/06H77vekuoVndo+xLJlddTSMniZBBje5P7z4z3UW0qjvWyefGRahQWtT94c3OdBehWndXH4eU1HSMTVTZukvHP/Gv6H77QdeZ7v8S/5ffhNu/2ZLbnFZQ2B8iC/f5Ln9F96d3P7J3hr1tg0AYPg5zgMHYWzVpXzepWdqu/bD//+OWFa1pVvt8ME/FWp7PyYVED/bL4dhKXXV/V6aNn7xXvVKdzxNUs8mayjZ0R/lY63XPQebEZro/quaB5nCNPGgyzL++A5ZeuoDQ0u2tDG6sew4yma10v1XNA82hN9Z9qLtiRi+NLAIHScfdF6WZaXvdv3zOBlx1L6Nx3UNddI+LIwMWLzzDhJIWaESWYt1zkMlcdS+jcd37qujeLY+sLz68J+Z1kr9zDxv/GTbkIJO56v6u6JrOTE1rBmtb3wE4kvBWMwml023ECt0dVzwHmd/c4zIP6pIDLnNUzQPNoVkJynVHW/GkGmJHZoFhFE64iDxdJDhhc73E6UuFP+OPj+oMf8Q+qEsO7JmgeaA1CBlSje6+/N4ZcWUiEixjpAPQuIp+eU0o1l3u8AcUN9NvkD0TNA+0hkUGXaO7K/4cs+anLtId5glYAOiyCU0od/iADN/VmRXdD6p5oDUMclCF7mgLo7NZj1ma5F8gMjsMUmJpn35Ajjt1hlcY79VrbhF3va0KrdEjR6jRfSpLzoNoVWGlu8Ijk9ukdCvRx/Cj4BeVtyhPKE8rU6N1oDEIWVyN7kgFbRkn3YU1smP2BMtElKHLt4CRR73iCcVnghvEfacZaAyPPLFG9yR/h5f3jDrJmmCUJTceWtUdnbdMYe44fIcZSb/liCf2fNUMtAXhCrpGd/TCSdUTMGjJ3HOC8FXoO0n7ODR/cOdj9gNmBIvVO8SdH96hKSyu4qhCdzSSnogbgMW++ZzEX9ySaINvnOTPyCH5DbkP2fccZUS+v9i+514ktIRHCaZCd/Sr/6NOEVYhr/GSfgBYKO0iSJhkA+cN1qnz0c7NZj7PPB5QwPFGqYvN191eSQDtQChEl+gegstvMvAMjbMlJwsy7OjwAj0OMFO6H0AIMcPvaaVr6fopDMRkLjZ5HFHIzXmVuutAA+3wb3Q3Z0NT13dz1iRvoQSKY/pTum56XToFKio4zis62cVrE7TrRnP2vFL3D1fddwivezZ0SnouA4zGQhUUfefmSvZ+qCkXustibhpmv6ROU4iWoIRvn9SV/0n3DNkhmhC89yEYxhk5RDZXPBFMHP6upB2ea/0aG7xlCKau/ld15Se7dU4EIAAEMJCzQAHD2+DfI0Ky0bBFityTPe8I90ifkcE90zHCPZKRwb2TkcG9k5HBPdO2j3CPdBkZ3DMZGdwzGRncOxkZ3DsZGdwzGRncO13nCPdI9zrCvZGRwb2TkcF9yWRkcM9wNzK4d7gbGdx/9u4dR2EoiIJo03gYMwOGgACJBAQS+98hPwcQ8CDuqrOGknWtFzQnd4eMuWNyd8iY+8M66js5ZMz9oYvyHDLmjsn9eiJV5g7J/bSdyNwhue8dMuZOyd0hY+6v+qjLIYPMvc/3plGWQ4aZ+zQbZlGTQwaa+yxbfqOkg0MGmvsyW+ZRkUMGm3uXCftXdciAc8+2ZVTjkAHnPs+2IYpxyIBzX+Qnq6jEIUPO/T9HkJdVhww4958+bzgfeIcMOfd8Vv+xaeOJVHTu3fD3laFE7g4ZeO4oZ4eMuVM4ZMydwxOp5s5x9iCHuVM4ZMydwyFj7hwOGXPncMiYO4ZDxtw5jg4Zc8fwRKq5YzhkzJ3DIWPuHA6ZiblTOGSuzB3CIXNj7gwOmTtzJ/Cy2MjcAXYOmZG51+eQubR3BzkJBFAQBfsUbtySeP8bmmiCCjMyqAjTv+oMvXi7PjL3dkLmE3Mv5+v9M3Pv5iL1C3NvJmROmHsxIXPK3HsJmTPm3krILDD3UkJmibl3EjKLzL2RkFlh7oUOQmaFufcRMqvMvc2TZ7F15l5GyHzH3LsImW+ZexMXqReYe5GDZ7ELzL2Hi9SLzL2FkNnA3Eu4SN3C3DsImU3MvYGQ2cjcCwiZrcx9/4TMZua+d0LmCua+c0LmGua+b0LmKua+Z77er2TuOyZk7i78lxchc3dhjZDpE5YJmUZhkZCpFJYImU5hkYvUSuHWXjyLPYxwY0LmgYQTQqZYOOPrvVY45yK1VfggZNqFIyFTLxwJmXrhnZCZILwRMiOEN0JmhPDOs9gE4a89C5mHFSJkxghCZo4gZOYIQmaOIGTmCH/l2UXqwwsuUucIQmaOIGTmCEJmjiBk5ghCZo4gZOYIQmaO8BsHIbMrQcjMEVykzhF+6uCQY3eCi9Q5gpCZIwiZOYKQmSMImTmCi9Q5gpCZ4xUY/g7LCnCJ6wAAAABJRU5ErkJggg==)\n",
    "\n",
    "---\n",
    "\n",
    "Дальше мы создаем новый файл `output.json`. В котором и будет храниться **Hash Set**. Файл нужен для наглядной демонстрации того, как на основе **lorem impsum** будет сгенерирован **Hash Set**\n",
    "\n",
    "Также мы дополнительно убираем лишние символы, чтобы оставить исключительно слова."
   ]
  },
  {
   "cell_type": "code",
   "metadata": {
    "colab": {
     "base_uri": "https://localhost:8080/"
    },
    "executionInfo": {
     "elapsed": 211,
     "status": "ok",
     "timestamp": 1711292676010,
     "user": {
      "displayName": "Doctor Fap",
      "userId": "12518902029317929659"
     },
     "user_tz": -180
    },
    "id": "wX9CswVZUFGb",
    "outputId": "669a8add-87a9-457d-d5e5-8a919b8baadf",
    "ExecuteTime": {
     "end_time": "2024-04-07T12:59:25.700838Z",
     "start_time": "2024-04-07T12:59:25.681644Z"
    }
   },
   "source": [
    "import json\n",
    "import re\n",
    "\n",
    "\n",
    "def set_default(obj):\n",
    "    \"\"\"\n",
    "    set replace to list type\n",
    "\n",
    "    :param obj:\n",
    "    :return:\n",
    "    \"\"\"\n",
    "    if isinstance(obj, set):\n",
    "        return list(obj)\n",
    "    raise TypeError\n",
    "\n",
    "\n",
    "if __name__ == '__main__':\n",
    "    print(f\"\\n[System] - Start\")\n",
    "\n",
    "    hash_object = HashSet()\n",
    "\n",
    "    with open('../lorem_ipsum.txt', encoding='UTF-8') as file:\n",
    "        contents = file.read()\n",
    "\n",
    "        for word in contents.split():\n",
    "            hash_object.append(\n",
    "                re.sub(\"['\\\"!@#$%^&*()-_=+/\\\\,.|]\", '', word)\n",
    "            )\n",
    "\n",
    "    with open('../output.json', 'w', encoding='UTF-8') as file:\n",
    "        json.dump(\n",
    "            obj=hash_object.hash_set,\n",
    "            default=set_default,\n",
    "            fp=file\n",
    "        )\n",
    "\n",
    "    print(f\"\\n[System] - End\")"
   ],
   "outputs": [
    {
     "name": "stdout",
     "output_type": "stream",
     "text": [
      "\n",
      "[System] - Start\n",
      "\n",
      "[SYSTEM] - Init hash set!\n",
      "\n",
      "[System] - End\n"
     ]
    }
   ],
   "execution_count": 2
  },
  {
   "cell_type": "markdown",
   "metadata": {
    "id": "MNcgHBFZ98H7"
   },
   "source": [
    "---\n",
    "Здесь мы создаем список `without_hash`. Его мы будем использовать для независимого тестирования скорости обработки поиска элемента внутри."
   ]
  },
  {
   "cell_type": "code",
   "metadata": {
    "id": "4otFzfabvLSz",
    "ExecuteTime": {
     "end_time": "2024-04-07T12:59:25.704695Z",
     "start_time": "2024-04-07T12:59:25.701843Z"
    }
   },
   "source": [
    "without_hash = list()\n",
    "\n",
    "for bucket in hash_object.hash_set.keys():\n",
    "  for element in hash_object.hash_set[bucket]:\n",
    "    without_hash.append(element)\n",
    "\n",
    "print(json.dumps(without_hash))"
   ],
   "outputs": [
    {
     "name": "stdout",
     "output_type": "stream",
     "text": [
      "[\"interdum\", \"inceptos\", \"lacinia\", \"facilisis\", \"a\", \"ultricies\", \"varius\", \"litora\", \"estibulum\", \"diam\", \"parturient\", \"libero\", \"condimentum\", \"am\", \"hac\", \"nascetur\", \"odio\", \"mauris\", \"pulvinar\", \"orci\", \"commodo\", \"sagittis\", \"bibendum\", \"aliquet\", \"nostra\", \"ac\", \"accumsan\", \"quam\", \"lobortis\", \"lass\", \"posuere\", \"penatibus\", \"nteger\", \"hasellus\", \"ivamus\", \"tellus\", \"natoque\", \"ad\", \"ornare\", \"tempor\", \"arcu\", \"dignissim\", \"vitae\", \"usce\", \"at\", \"tortor\", \"ullam\", \"sed\", \"tristique\", \"enim\", \"amet\", \"morbi\", \"sapien\", \"aecenas\", \"onec\", \"dictumst\", \"montes\", \"platea\", \"in\", \"nterdum\", \"facilisi\", \"tincidunt\", \"sem\", \"eros\", \"n\", \"nunc\", \"malesuada\", \"nisl\", \"ligula\", \"fames\", \"metus\", \"ulla\", \"rhoncus\", \"auris\", \"maximus\", \"suscipit\", \"ex\", \"pellentesque\", \"ullamcorper\", \"cursus\", \"justo\", \"elit\", \"taciti\", \"iaculis\", \"feugiat\", \"auctor\", \"congue\", \"ridiculus\", \"ut\", \"consectetur\", \"leo\", \"magnis\", \"ed\", \"lorem\", \"hendrerit\", \"neque\", \"lacus\", \"senectus\", \"urabitur\", \"urna\", \"finibus\", \"mus\", \"torquent\", \"sollicitudin\", \"orbi\", \"vulputate\", \"porttitor\", \"viverra\", \"enean\", \"non\", \"purus\", \"erat\", \"eleifend\", \"est\", \"efficitur\", \"nisi\", \"rci\", \"himenaeos\", \"quis\", \"sociosqu\", \"ellentesque\", \"elementum\", \"ras\", \"pretium\", \"aptent\", \"eget\", \"augue\", \"molestie\", \"sodales\", \"scelerisque\", \"tiam\", \"conubia\", \"nec\", \"blandit\", \"sit\", \"pharetra\", \"eu\", \"dictum\", \"per\", \"tempus\", \"placerat\", \"uspendisse\", \"primis\", \"et\", \"id\", \"vel\", \"potenti\", \"porta\", \"fermentum\", \"orem\", \"dolor\", \"nibh\", \"laoreet\", \"vehicula\", \"dis\", \"gravida\", \"mollis\", \"consequat\", \"curae\", \"mi\", \"raesent\", \"vestibulum\", \"lectus\", \"t\", \"egestas\", \"uis\", \"luctus\", \"magna\", \"liquam\", \"venenatis\", \"ante\", \"ultrices\", \"semper\", \"volutpat\", \"rutrum\", \"uisque\", \"mattis\", \"dui\", \"aliquam\", \"ipsum\", \"euismod\", \"habitant\", \"velit\", \"nulla\", \"faucibus\", \"roin\", \"dapibus\", \"cubilia\", \"imperdiet\", \"unc\", \"risus\", \"convallis\", \"fringilla\", \"habitasse\", \"massa\", \"netus\", \"turpis\", \"felis\", \"adipiscing\"]\n"
     ]
    }
   ],
   "execution_count": 3
  },
  {
   "cell_type": "markdown",
   "metadata": {
    "id": "LcGEm1M8-n_r"
   },
   "source": [
    "\n",
    "\n",
    "---\n",
    "\n",
    "\n",
    "\n",
    "Далее идет подключение зависимостей для тестирования скорости.\n",
    "\n",
    "- `time` - нужен для подсчета времени работы.\n",
    "- `random` - нужен для выборки любого элемента из `without_hash`"
   ]
  },
  {
   "cell_type": "code",
   "metadata": {
    "executionInfo": {
     "elapsed": 221,
     "status": "ok",
     "timestamp": 1711292681858,
     "user": {
      "displayName": "Doctor Fap",
      "userId": "12518902029317929659"
     },
     "user_tz": -180
    },
    "id": "m2v1DukFwFmT",
    "ExecuteTime": {
     "end_time": "2024-04-07T12:59:25.707859Z",
     "start_time": "2024-04-07T12:59:25.704695Z"
    }
   },
   "source": [
    "import time\n",
    "import random"
   ],
   "outputs": [],
   "execution_count": 4
  },
  {
   "cell_type": "markdown",
   "metadata": {
    "id": "RNYiWYKw-8JN"
   },
   "source": [
    "\n",
    "\n",
    "---\n",
    "\n",
    "\n",
    "\n",
    "В этом тесте будет проверенно `10 000 000` раз операция поиска внутри **Hash Set**. Значения будут браться псевдо-рандомным способом.\n",
    "\n",
    "> `100 000 000` записей заняло по времени: `132.4818253517151 секунд => 2 минуты 12 секунд` (Google)"
   ]
  },
  {
   "cell_type": "code",
   "metadata": {
    "id": "JnxebaxHuPio",
    "ExecuteTime": {
     "end_time": "2024-04-07T12:59:29.764942Z",
     "start_time": "2024-04-07T12:59:25.708863Z"
    }
   },
   "source": [
    "# начальное время\n",
    "start_time = time.time()\n",
    "\n",
    "for start in range(1, 10_000_000):\n",
    "  hash_object.existence(random.choice(without_hash))\n",
    "\n",
    "# конечное время\n",
    "end_time = time.time()\n",
    "\n",
    "# разница между конечным и начальным временем\n",
    "result = end_time - start_time\n",
    "\n",
    "print('Затраченное время:', round(result, 4), 'секунд')"
   ],
   "outputs": [
    {
     "name": "stdout",
     "output_type": "stream",
     "text": [
      "Затраченное время: 4.0526 секунд\n"
     ]
    }
   ],
   "execution_count": 5
  },
  {
   "cell_type": "markdown",
   "metadata": {
    "id": "-q0rYSh4_TyA"
   },
   "source": [
    "\n",
    "\n",
    "---\n",
    "\n",
    "\n",
    "В этом тесте будет проверенно `10 000 000` раз операция поиска внутри списка. Значения будут браться псевдо-рандомным способом.\n",
    "\n",
    "> `100 000 000` записей заняло по времени: `250.30208706855774 => 4 минуты 10 секунд` (Google)"
   ]
  },
  {
   "cell_type": "code",
   "metadata": {
    "id": "Wx-BzpIEvffg",
    "ExecuteTime": {
     "end_time": "2024-04-07T12:59:38.046084Z",
     "start_time": "2024-04-07T12:59:29.765942Z"
    }
   },
   "source": [
    "# начальное время\n",
    "start_time = time.time()\n",
    "\n",
    "for start in range(1, 10_000_000):\n",
    "  key_exists = random.choice(without_hash) in without_hash\n",
    "\n",
    "# конечное время\n",
    "end_time = time.time()\n",
    "\n",
    "# разница между конечным и начальным временем\n",
    "result = end_time - start_time\n",
    "\n",
    "print('Затраченное время:', round(result, 4), 'секунд')"
   ],
   "outputs": [
    {
     "name": "stdout",
     "output_type": "stream",
     "text": [
      "Затраченное время: 8.2777 секунд\n"
     ]
    }
   ],
   "execution_count": 6
  }
 ],
 "metadata": {
  "colab": {
   "authorship_tag": "ABX9TyMV0/fhdmOeNr4aOLOEQ1Wl",
   "provenance": []
  },
  "kernelspec": {
   "display_name": "Python 3 (ipykernel)",
   "language": "python",
   "name": "python3"
  },
  "language_info": {
   "codemirror_mode": {
    "name": "ipython",
    "version": 3
   },
   "file_extension": ".py",
   "mimetype": "text/x-python",
   "name": "python",
   "nbconvert_exporter": "python",
   "pygments_lexer": "ipython3",
   "version": "3.12.2"
  }
 },
 "nbformat": 4,
 "nbformat_minor": 4
}
